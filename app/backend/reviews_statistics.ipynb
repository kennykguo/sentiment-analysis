{
 "cells": [
  {
   "cell_type": "code",
   "execution_count": 1,
   "id": "3c88e080-daef-49f2-89f5-d69aeccb8a67",
   "metadata": {},
   "outputs": [],
   "source": [
    "import pandas as pd\n",
    "import numpy as np\n",
    "import spacy\n",
    "import nltk\n",
    "from nltk import pos_tag\n",
    "from nltk.tokenize import word_tokenize\n",
    "from vaderSentiment.vaderSentiment import SentimentIntensityAnalyzer\n",
    "from rake_nltk import Rake\n",
    "import matplotlib.pyplot as plt\n",
    "import re\n",
    "import string\n",
    "\n",
    "# Load spaCy model\n",
    "nlp = spacy.load(\"en_core_web_sm\")\n",
    "\n",
    "# Initialize VADER and RAKE\n",
    "analyzer = SentimentIntensityAnalyzer()\n",
    "rake = Rake()"
   ]
  },
  {
   "cell_type": "code",
   "execution_count": 2,
   "id": "c88e3f98-c22d-422f-9de3-b9abf6e215ca",
   "metadata": {},
   "outputs": [],
   "source": [
    "def clean_text(text):\n",
    "    text = text.translate(str.maketrans('', '', string.punctuation))\n",
    "    text = re.sub(r'\\s+', ' ', text).strip()\n",
    "    text = text.lower()\n",
    "    return text"
   ]
  },
  {
   "cell_type": "code",
   "execution_count": 3,
   "id": "46c67b68-4a1b-4d30-8f58-1b812912f341",
   "metadata": {},
   "outputs": [],
   "source": [
    "def perform_ner(texts):\n",
    "    all_entities = []\n",
    "    for text in texts:\n",
    "        doc = nlp(text)\n",
    "        entities = [(ent.text, ent.label_) for ent in doc.ents]\n",
    "        all_entities.extend(entities)\n",
    "    return all_entities"
   ]
  },
  {
   "cell_type": "code",
   "execution_count": 4,
   "id": "c0b23433-071f-424d-8e5e-daa818549e4b",
   "metadata": {},
   "outputs": [],
   "source": [
    "def get_pos_tags(texts):\n",
    "    all_tags = []\n",
    "    for text in texts:\n",
    "        tokens = word_tokenize(text)\n",
    "        tags = pos_tag(tokens)\n",
    "        all_tags.extend(tags)\n",
    "    return all_tags"
   ]
  },
  {
   "cell_type": "code",
   "execution_count": 5,
   "id": "f96482da-fa65-4b2e-99e8-94d37118d3f8",
   "metadata": {},
   "outputs": [],
   "source": [
    "def top_nouns_verbs_adjectives(tags, top_n=10):\n",
    "    nouns = [word for word, pos in tags if pos in ['NN', 'NNS', 'NNP', 'NNPS']]\n",
    "    verbs = [word for word, pos in tags if pos.startswith('VB')]\n",
    "    adjectives = [word for word, pos in tags if pos in ['JJ', 'JJR', 'JJS']]\n",
    "    \n",
    "    return {\n",
    "        'nouns': nltk.FreqDist(nouns).most_common(top_n),\n",
    "        'verbs': nltk.FreqDist(verbs).most_common(top_n),\n",
    "        'adjectives': nltk.FreqDist(adjectives).most_common(top_n)\n",
    "    }\n"
   ]
  },
  {
   "cell_type": "code",
   "execution_count": 6,
   "id": "8a2c3379-723d-49fc-87be-17a13cd64319",
   "metadata": {},
   "outputs": [],
   "source": [
    "def detect_emotions(texts):\n",
    "    all_scores = []\n",
    "    for text in texts:\n",
    "        sentiment = analyzer.polarity_scores(text)\n",
    "        all_scores.append(sentiment['compound'])\n",
    "    return all_scores"
   ]
  },
  {
   "cell_type": "code",
   "execution_count": 7,
   "id": "ecf4c3da-df35-4e8e-8ca7-df97c5869307",
   "metadata": {},
   "outputs": [],
   "source": [
    "# Can update this functionality to generate keywords based on specific topics or related word meanings\n",
    "\n",
    "def extract_keywords(texts):\n",
    "    all_keywords = []\n",
    "    for text in texts:\n",
    "        rake.extract_keywords_from_text(text)\n",
    "        keywords = rake.get_ranked_phrases()\n",
    "        all_keywords.extend(keywords)\n",
    "    return all_keywords"
   ]
  },
  {
   "cell_type": "code",
   "execution_count": 8,
   "id": "e84d77b7-bcb4-4830-821b-82472cce27db",
   "metadata": {},
   "outputs": [],
   "source": [
    "def analyze_sentiment_scores(scores):\n",
    "    mean_score = np.mean(scores)\n",
    "    return mean_score"
   ]
  },
  {
   "cell_type": "code",
   "execution_count": 9,
   "id": "e674fa5e-3f56-4cee-9697-c83e9321f53a",
   "metadata": {},
   "outputs": [],
   "source": [
    "def plot_sentiment_distribution(scores):\n",
    "    plt.figure(figsize=(10, 6))\n",
    "    plt.hist(scores, bins=20, edgecolor='black')\n",
    "    plt.title('Sentiment Score Distribution')\n",
    "    plt.xlabel('Sentiment Score')\n",
    "    plt.ylabel('Frequency')\n",
    "    plt.grid(True)\n",
    "    plt.show()"
   ]
  },
  {
   "cell_type": "code",
   "execution_count": 10,
   "id": "0a9e6ce7-3cd5-4cac-a8d6-bd41800fc00c",
   "metadata": {},
   "outputs": [],
   "source": [
    "def average_word_count(texts):\n",
    "    word_counts = [len(text.split()) for text in texts]\n",
    "    return np.mean(word_counts)"
   ]
  },
  {
   "cell_type": "code",
   "execution_count": 12,
   "id": "ccd6ada4-480f-46af-98a5-33864bf47be4",
   "metadata": {
    "scrolled": true
   },
   "outputs": [
    {
     "name": "stdout",
     "output_type": "stream",
     "text": [
      "Average Sentiment Score: 0.5701975609756098\n",
      "Average Word Count per Review: 52.46341463414634\n",
      "\n",
      "NER:\n",
      "{('each night', 'TIME'), ('100', 'CARDINAL'), ('about a month', 'DATE'), ('first', 'ORDINAL'), ('daily', 'DATE'), ('first few days', 'DATE'), ('every few days', 'DATE'), ('the 30 minutes', 'TIME'), ('the first day', 'DATE'), ('10', 'CARDINAL'), ('every morning', 'TIME'), ('1798', 'DATE'), ('day 2', 'DATE'), ('4 hours', 'TIME'), ('4 days', 'DATE'), ('a few weeks', 'DATE'), ('pas de fini', 'PERSON'), ('korean', 'NORP'), ('2', 'CARDINAL'), ('25', 'DATE'), ('one', 'CARDINAL'), ('second', 'ORDINAL'), ('3rd', 'ORDINAL'), ('12', 'CARDINAL'), ('zero', 'CARDINAL'), ('a month', 'DATE')}\n",
      "\n",
      "Top POS Tags:\n",
      "Nouns:\n",
      "[('i', 66), ('skin', 41), ('’', 19), ('t', 17), ('product', 15), ('essence', 13), ('texture', 11), ('ve', 9), ('toner', 8), ('m', 8)]\n",
      "Verbs:\n",
      "[('’', 34), ('is', 31), ('has', 18), ('using', 16), ('have', 15), ('i', 14), ('use', 13), ('was', 10), ('been', 9), ('love', 8)]\n",
      "Adj:\n",
      "[('i', 21), ('skin', 10), ('’', 10), ('s', 9), ('much', 7), ('good', 7), ('dry', 6), ('only', 6), ('great', 5), ('same', 5)]\n",
      "\n",
      "Keywords Extracted:\n",
      "{'practically clear', 'disciplined person', 'really pleased', 'hyperpigmentation', 'stuff', 'every', 'dry combination sensitive skin', 'beauty filter lol', 'smoother', 'product', 'regular moisturizers ofc', 'mainly got', 'staple', 'would ’', 'nice lightweight texture', 'also use', 'time', 'different toner', 'second time ive purchased', 'cleansing', 'paid', 'day', '4 days', 'stuff makes', 'makeup goes', 'pimples took', 'would highly highly highly recommend', 'radiant', 'puffy', 'dont even offer amazon prime', 'little concerned', 'wrinkles', 'name suited', 'timefree beauty probably', 'twice daily', 'like 12 lol also', 'prescriptionstrength retina', 'hydrating light', 'fantastic', 'formula', 'much healthier', 'small', 'noticeable difference', 'big result', 'ordered', 'twice', 'still soft', 'forget', 'hydrates well', 'light slightly sticky texture', 'hydrated', 'social media', 'healthy glow soft', 'wishtrend since', 'weeks', 'noticed', 'stickiness behind 10', 'quality makes', 'likely repurchase', 'nice light texture', 'use', 'ordering', 'skin looks', 'layers well', 'bit high', 'skincare routine', 'pair', 'ordered korean products received dublicate productsim happy', 'believer', 'product since', 'much makeup anymore', 'gooey consistency', '25', 'barely', 'amazing', 'luminous', '’', 'makes', 'afterwards', 'attract water', 'started using', 'order otherwise many time', 'really good', 'purchase', 'sure', 'never bought', 'ive heard', 'definitely', 'bit dry', 'actually draw moisture', 'much smoother', 'become', 'scentless making', 'let anyone touch', 'miss', 'snail mucin actually faded', 'game changer', 'skin feels softer', 'say', 'moisture level', 'healing', 'sodium hyaluronate hyaluronic acid use', 'absorbs quickly', 'improved', 'lot like ha', 'definitely continue', 'applying', 'even', 'soft', 'fair review', 'skin feels', 'difference', 'ran', 'bumps', 'convenient', 'heck yes', 'fresh', 'ive bought 2', 'ahas one', 'radiant immediately', 'goes', 'lightweight', 'put', 'residue', 'cause pilling', 'sleep', 'skin look', 'snails', 'havent', 'problems', 'also use bhas', 'first', 'help', 'results', 'swollen', 'place', 'stuff gave', 'yet', 'also appreciate', 'loved', 'dries', 'product deserves one', 'absolutely love', 'also everyone ’', 'face used', 'wasnt convinced', 'cause', 'anything changes', 'keep using', 'gave', 'started feeling tiny bumps', 'little goes', 'great essence', 'big', 'affordable', 'face ik probably', 'also', 'impressed', 'see', 'hydrate', 'healed', 'offensive smell', 'cant believe', 'otherwise', 'overall though skin feels smoother nicely moisturized', 'remember', 'right amount', 'smells', 'worked', 'product made', 'result', 'bottle', 'lightweight slightly sticky texture', 'zero reaction', 'run', 'regular product purchase', 'face', 'stuff helps heal acne', 'work', 'explain', 'told', 'aha use', 'got', '10 would recommend', 'month', 'quite know', 'wasnt', 'kid', 'snail mucin', 'hype', 'redness snails', 'dryness', 'stopped flaking', 'much softer', 'opinion', 'get past', 'leaves skin', 'good', 'whole bottle', 'makes skin fresh', 'first day', 'may find', 'dark circles bc', 'great product', 'try', 'younger somehow', 'much', 'evenly', 'hit', 'oilier', 'skins aversion', 'acids', 'times however', 'instructed', 'reminder since', 'greasy', 'point didnt aggravate', 'retinols', 'definitely tell', 'company', 'skin feel', 'price', 'redness', 'products', 'essence', 'dont', 'drastic', 'sensitive skin', 'product ive used', 'smooth even', 'skin recommended', 'seem', 'skin feels plump', 'nothing', 'caused', 'strong fragrance', 'highly doubt', 'far yourishop', 'smooth without', '30 minutes', 'give', 'skin shiner', 'still full', 'smooth', 'used', 'heal', 'bit sticky', 'bit pricey', 'ghostly', 'reviews', 'wait', 'many bumps like fungal acne bumps', 'im loving', 'change', 'skin reacts differently', 'someone', 'moisturizer', 'assumed', 'long way', 'negative reactions', 'budget overall', 'pleasant', 'never go back either', 'eyes', 'oil cleanser', 'reduced redness slightly', 'toner', 'working', 'repurchase', 'flaking due', 'packaging', 'ever used', 'skin', 'ive', 'scent', 'feel heavy', 'pilling edit rude cosmetics', 'youre worried', 'feels', 'update though', 'use retina', 'last', 'maybe', 'feels like', 'snail essence', 'honestly', 'effect', 'feel', 'serum', 'genuinely', 'write home', 'one thing', 'skin loves', 'daily', 'skin feeling refreshed', 'purchase ♥️', 'constantly repurchasing', 'worth', 'still cannot believe', 'cannot comprehend', 'begin', 'lot longer', 'never look back', 'face without leaving', 'even need', 'kind', 'très bien emballé bon produit pas de fini collant', 'looks youthful right', 'best thing', 'lot', 'liked', 'skin care regime', 'definitely helped', 'bought', 'top', 'textured like', 'love', 'dry skin', 'strange texture', 'overpowering', 'might work', 'everything else', 'absorbs beautifully', 'dry skin acne', 'sodium hyaluronate', 'air', 'usually write reviews', 'read', 'product works', 'importantly', '100 repurchase', 'okay', 'subtle pleasant scent', 'friends cant stop caressing', 'reduce redness pretty apparent', 'subtle', 'whole snail thing dont theres', 'sensitive skin highly recommend', 'smoothly', 'cosrx ahabha toner', 'issues', 'downside', 'light', 'service far', 'skincare products', 'great', 'ways', 'actually cleared', 'long', 'day 2', 'youre', 'even soap', 'skin ’', 'night', 'interfere', 'irritation', 'moisture levels', 'little like lotion', 'skin feel hydrated', 'hasnt', 'snail mucin alone', 'days', 'never looked better', 'koreanbased kproduct seller', 'could feel', 'easily absorbed', 'definitely recommend', 'also started using', 'would work', 'bit', 'huge game changer went viral', 'good idea', 'eczema', 'much worse overall', 'complaint', 'crazy also', 'rude cosmetics', 'satisfied', 'acne', 'didnt', 'using snails instead', 'cleansing oil everything else', 'breakouts', 'well', 'second bottle', 'overall skin texture', 'soothes', 'every morning', 'damp skin', 'takes', 'observed little improvement', 'reason', 'buying', 'awesome super hydrating nonsticky', 'moist quality', 'surprised', 'happy', 'since rebranded', 'usual worth', 'irritate', 'whatever moisture ie water', 'great addition', 'minimal', 'recommend', 'offer ap', 'fast', 'many good reviews', 'even moisture', 'absorbs quickly leaving', '1798', 'amazing product', 'thing', 'bean essence', 'carefully pat', 'brightening effect', 'cosrx snail mucin power essence bottles', 'oml', 'far', 'using', 'seems', 'couple', 'eczema worse', 'product doesnt bother', 'almost', 'decided', 'made', 'certainly strongly advise', 'looks', 'generally order kproducts', 'decrease', 'amazing definitely recommend', 'hydration', 'skincare product', 'significant improvement', 'worth buying', 'fine', 'skin hyaluronic acid', 'plump', 'texture', 'psoriasiseczema skin', 'clear since', 'itll help draw', 'great improvement since', 'woke', 'must', '3rd bottle genuinely', 'ridiculous amount', 'combo oily acneprone slightly sensitive skin', 'first time', 'goodsoothing', 'morning', 'smoothpat', 'run around may send expired products overcharge', 'definitely repurchasing', 'crazy dry sensitive', 'pump dispenses', 'light watery consistency', 'skin looks plumper', 'first apply', 'gets 4 hours', 'absorbs quickly without leaving', 'pimples', 'may', 'quickly'}\n"
     ]
    },
    {
     "data": {
      "image/png": "[encoded data removed]",
      "text/plain": [
       "<Figure size 1000x600 with 1 Axes>"
      ]
     },
     "metadata": {},
     "output_type": "display_data"
    }
   ],
   "source": [
    "def import_and_process_data(file_path):\n",
    "    df = pd.read_excel(file_path, header=None, names=['review'])\n",
    "    reviews = df['review'].tolist()\n",
    "    \n",
    "    # Clean the entire list of reviews\n",
    "    cleaned_reviews = [clean_text(review) for review in reviews]\n",
    "    \n",
    "    # NER\n",
    "    entities = perform_ner(cleaned_reviews)\n",
    "    \n",
    "    # POS Tagging\n",
    "    pos_tags = get_pos_tags(cleaned_reviews)\n",
    "    top_pos_tags = top_nouns_verbs_adjectives(pos_tags)\n",
    "    \n",
    "    # Emotion Detection\n",
    "    sentiment_scores = detect_emotions(cleaned_reviews)\n",
    "    \n",
    "    # Keyword Extraction\n",
    "    keywords = extract_keywords(cleaned_reviews)\n",
    "    \n",
    "    # Compute statistics\n",
    "    avg_sentiment_score = analyze_sentiment_scores(sentiment_scores)\n",
    "    avg_word_count = average_word_count(reviews)\n",
    "    print(f\"Average Sentiment Score: {avg_sentiment_score}\")\n",
    "    print(f\"Average Word Count per Review: {avg_word_count}\")\n",
    "    \n",
    "    # NER\n",
    "    print(\"\\nNER:\")\n",
    "    print(set(entities))  # Print unique entities\n",
    "\n",
    "    # POS\n",
    "    print(\"\\nTop POS Tags:\")\n",
    "    print('Nouns:')\n",
    "    print(top_pos_tags['nouns'])\n",
    "    print('Verbs:')\n",
    "    print(top_pos_tags['verbs'])\n",
    "    print('Adj:')\n",
    "    print(top_pos_tags['adjectives'])\n",
    "\n",
    "    # Keyword extraction\n",
    "    print(\"\\nKeywords Extracted:\")\n",
    "    print(set(keywords))  # Print unique keywords\n",
    "    \n",
    "    # Plot sentiment distribution\n",
    "    plot_sentiment_distribution(sentiment_scores)\n",
    "\n",
    "# Define the file path\n",
    "file_path = 'sentiment_data/73.xlsx'\n",
    "\n",
    "import_and_process_data(file_path)"
   ]
  }
 ],
 "metadata": {
  "kernelspec": {
   "display_name": "Python (deep-learning)",
   "language": "python",
   "name": "deep-learning"
  },
  "language_info": {
   "codemirror_mode": {
    "name": "ipython",
    "version": 3
   },
   "file_extension": ".py",
   "mimetype": "text/x-python",
   "name": "python",
   "nbconvert_exporter": "python",
   "pygments_lexer": "ipython3",
   "version": "3.8.19"
  }
 },
 "nbformat": 4,
 "nbformat_minor": 5
}
